{
 "cells": [
  {
   "cell_type": "markdown",
   "metadata": {},
   "source": [
    "Import libraries."
   ]
  },
  {
   "cell_type": "code",
   "execution_count": 26,
   "metadata": {},
   "outputs": [],
   "source": [
    "import pymongo\n",
    "import footmldb as fdb\n",
    "import pandas as pd\n",
    "from pandas.io.json import json_normalize\n",
    "import json"
   ]
  },
  {
   "cell_type": "code",
   "execution_count": 68,
   "metadata": {},
   "outputs": [],
   "source": [
    "def connect_db(remote=False):\n",
    "    \"\"\"\n",
    "    Connects to learnbet database and returns the database object.\n",
    "    \n",
    "    If remote=True this method will connect to the live database on the aws server.\n",
    "    Work carefully with it, db is live.\n",
    "    \"\"\"\n",
    "    \n",
    "    if remote:\n",
    "        with open(\"db_credentials_remote.json\", \"r\") as file:\n",
    "            db_config = json.load(file)\n",
    "    else:\n",
    "        with open(\"db_credentials.json\", \"r\") as file:\n",
    "            db_config = json.load(file)\n",
    "            \n",
    "    uri = 'mongodb://%s:%s@%s/%s' % \\\n",
    "          (db_config['username'], \n",
    "           db_config['password'], \n",
    "           db_config['DB_IP'], \n",
    "           db_config['DB_name'])\n",
    "    \n",
    "    client = pymongo.MongoClient(uri)\n",
    "    db = client.get_database()\n",
    "    \n",
    "    return db"
   ]
  },
  {
   "cell_type": "code",
   "execution_count": 73,
   "metadata": {},
   "outputs": [],
   "source": [
    "db_ = connect_db(remote=True)"
   ]
  },
  {
   "cell_type": "code",
   "execution_count": 74,
   "metadata": {},
   "outputs": [
    {
     "name": "stderr",
     "output_type": "stream",
     "text": [
      "C:\\Users\\mp3213\\AppData\\Local\\Continuum\\anaconda3\\lib\\site-packages\\ipykernel_launcher.py:1: DeprecationWarning: count is deprecated. Use estimated_document_count or count_documents instead. Please note that $where must be replaced by $expr, $near must be replaced by $geoWithin with $center, and $nearSphere must be replaced by $geoWithin with $centerSphere\n",
      "  \"\"\"Entry point for launching an IPython kernel.\n"
     ]
    },
    {
     "name": "stdout",
     "output_type": "stream",
     "text": [
      "542\n"
     ]
    }
   ],
   "source": [
    "print(db_.matches.count())"
   ]
  },
  {
   "cell_type": "code",
   "execution_count": 75,
   "metadata": {},
   "outputs": [
    {
     "name": "stdout",
     "output_type": "stream",
     "text": [
      "2018-10-30 14:50:42.137000 | 22 \n",
      "2018-10-30 16:59:49.471000 | 24 \n",
      "2018-10-30 20:59:37.782000 | 25 \n",
      "2018-10-30 23:08:09.870000 | 25 \n",
      "2018-10-31 02:43:11.660000 | 25 \n",
      "2018-10-31 03:01:43.421000 | 25 \n",
      "2018-10-31 04:42:15.770000 | 25 \n",
      "2018-10-31 05:04:10.399000 | 25 \n",
      "2018-10-31 08:43:08.060000 | 25 \n",
      "2018-10-31 09:13:00.534000 | 25 \n",
      "2018-10-31 10:35:07.684000 | 24 \n",
      "2018-10-31 11:02:55.697000 | 25 \n",
      "2018-10-31 14:43:11.292000 | 25 \n",
      "2018-10-31 15:11:00.724000 | 25 \n",
      "2018-10-31 16:33:38.289000 | 25 \n",
      "2018-10-31 17:09:19.557000 | 25 \n",
      "2018-10-31 20:38:19.803000 | 25 \n",
      "2018-10-31 20:38:47.768000 | 25 \n",
      "2018-10-31 21:14:40.671000 | 25 \n",
      "2018-10-31 21:15:07.991000 | 25 \n",
      "2018-10-31 22:49:16.370000 | 25 \n",
      "2018-10-31 23:06:31.464000 | 25 \n",
      "2018-11-01 02:31:45.166000 | 25 \n",
      "2018-11-01 02:32:15.619000 | 25 \n",
      "2018-11-01 03:04:14.670000 | 25 \n",
      "2018-11-01 06:33:28.434000 | 25 \n",
      "2018-11-01 06:33:55.273000 | 25 \n",
      "2018-11-01 07:05:03.496000 | 25 \n",
      "2018-11-01 10:47:01.343000 | 25 \n",
      "2018-11-01 10:47:29.005000 | 25 \n",
      "2018-11-01 10:58:32.210000 | 25 \n",
      "2018-11-01 14:32:22.201000 | 26 \n",
      "2018-11-01 14:59:55.529000 | 26 \n",
      "2018-11-01 18:23:18.771000 | 24 \n",
      "2018-11-01 19:09:41.375000 | 24 \n",
      "2018-11-01 22:20:49.876000 | 24 \n",
      "2018-11-01 23:02:49.709000 | 24 \n",
      "2018-11-02 02:30:09.345000 | 24 \n",
      "2018-11-02 03:18:16.580000 | 24 \n",
      "2018-11-02 06:33:33.757000 | 24 \n",
      "2018-11-02 07:16:19.838000 | 24 \n",
      "2018-11-02 10:48:17.512000 | 24 \n",
      "2018-11-02 11:29:42.538000 | 24 \n",
      "2018-11-02 15:02:23.235000 | 25 \n",
      "2018-11-02 15:19:15.498000 | 25 \n",
      "2018-11-02 19:11:03.658000 | 26 \n",
      "2018-11-02 19:12:24.985000 | 26 \n",
      "2018-11-02 23:07:26.753000 | 26 \n",
      "2018-11-03 02:59:07.991000 | 26 \n",
      "2018-11-03 06:48:43.479000 | 26 \n",
      "2018-11-03 10:52:01.904000 | 26 \n",
      "2018-11-03 16:46:43.069000 | 26 \n",
      "2018-11-03 16:51:37.697000 | 26 \n",
      "2018-11-03 20:40:04.955000 | 25 \n",
      "2018-11-03 20:50:07.118000 | 25 \n",
      "2018-11-04 00:39:53.887000 | 26 \n",
      "2018-11-04 00:52:37.908000 | 26 \n",
      "2018-11-04 02:33:55.552000 | 26 \n",
      "2018-11-04 04:52:39.611000 | 26 \n",
      "2018-11-04 06:45:09.413000 | 26 \n",
      "2018-11-04 08:51:41.189000 | 26 \n",
      "2018-11-04 10:40:32.017000 | 26 \n",
      "2018-11-04 12:56:08.368000 | 26 \n",
      "2018-11-04 14:35:57.959000 | 26 \n",
      "2018-11-04 17:01:02.697000 | 26 \n",
      "2018-11-04 18:36:41.753000 | 26 \n",
      "2018-11-04 21:21:51.441000 | 27 \n",
      "2018-11-04 21:22:21.788000 | 27 \n",
      "2018-11-04 22:45:22.842000 | 26 \n",
      "2018-11-05 01:21:39.843000 | 27 \n",
      "2018-11-05 01:22:09.310000 | 27 \n",
      "2018-11-05 02:30:46.681000 | 27 \n",
      "2018-11-05 05:18:15.428000 | 26 \n",
      "2018-11-05 05:18:57.549000 | 26 \n",
      "2018-11-05 06:26:47.407000 | 27 \n",
      "2018-11-05 09:08:42.569000 | 27 \n",
      "2018-11-05 09:09:19.949000 | 27 \n",
      "2018-11-05 10:20:53.451000 | 27 \n",
      "2018-11-05 12:53:38.069000 | 27 \n",
      "2018-11-05 12:54:26.881000 | 27 \n",
      "2018-11-05 14:10:56.208000 | 27 \n",
      "2018-11-05 16:35:36.252000 | 27 \n",
      "2018-11-05 16:36:25.120000 | 27 \n",
      "2018-11-05 18:03:25.116000 | 27 \n",
      "2018-11-05 20:49:56.870000 | 27 \n",
      "2018-11-05 20:50:45.108000 | 27 \n",
      "2018-11-05 21:43:20.717000 | 27 \n",
      "2018-11-06 00:50:20.671000 | 27 \n",
      "2018-11-06 00:51:02.789000 | 27 \n",
      "2018-11-06 01:54:12.713000 | 27 \n",
      "2018-11-06 04:54:29.375000 | 27 \n",
      "2018-11-06 04:55:12.106000 | 27 \n",
      "2018-11-06 06:05:10.796000 | 27 \n",
      "2018-11-06 08:59:29.060000 | 27 \n",
      "2018-11-06 09:00:11.372000 | 27 \n",
      "2018-11-06 10:04:42.726000 | 27 \n",
      "2018-11-06 12:37:34.633000 | 27 \n",
      "2018-11-06 12:38:52.317000 | 27 \n",
      "2018-11-06 14:05:04.015000 | 27 \n",
      "2018-11-06 16:51:54.657000 | 27 \n",
      "2018-11-06 16:53:12.925000 | 27 \n",
      "2018-11-06 18:06:49.859000 | 27 \n"
     ]
    }
   ],
   "source": [
    "m = db_.matches.find_one({'team_home': 'Inter Milan', 'team_away': 'Barcelona'})\n",
    "all_odds = m['all_odds']['winner']\n",
    "for entry in all_odds:\n",
    "    print(\"%s | %d \" % (entry['datetime'], len(entry['odds'])))"
   ]
  },
  {
   "cell_type": "markdown",
   "metadata": {},
   "source": [
    "# Get matches (list / dataframe)"
   ]
  },
  {
   "cell_type": "markdown",
   "metadata": {},
   "source": [
    "Get all matches."
   ]
  },
  {
   "cell_type": "code",
   "execution_count": 52,
   "metadata": {},
   "outputs": [],
   "source": [
    "def get_db_matches():\n",
    "    \"\"\"\n",
    "    Get a list of all matches from db\n",
    "    \"\"\"\n",
    "    \n",
    "    # Get matches from db, sorted by `match_datetime`\n",
    "    db_ = connect_remote_db()\n",
    "    ms = list(db_.matches.find())  # .sort(\"match_datetime\")\n",
    "    return ms\n",
    "\n",
    "\n",
    "def get_matches_df():\n",
    "    \"\"\"\n",
    "    Get a pandas dataframe of all matches in db\n",
    "    \"\"\"\n",
    "    \n",
    "    ms = get_db_matches()\n",
    "    df_orig = json_normalize(ms)\n",
    "    df = df_orig\n",
    "    df['goals_home'] = df['result.fulltime.goals_home']\n",
    "    df['goals_away'] = df['result.fulltime.goals_away']\n",
    "    df = df.drop(['odds_link', '_id', 'result.extratime.goals_away', 'result.extratime.goals_home', 'result.halftime.goals_away', 'result.halftime.goals_home', 'result.fulltime.goals_away', 'result.fulltime.goals_home'], axis=1)\n",
    "    df['num_odds'] = [len(a) for a in df['all_odds.winner']]\n",
    "    return df"
   ]
  },
  {
   "cell_type": "code",
   "execution_count": null,
   "metadata": {},
   "outputs": [],
   "source": [
    "df = get_matches_df()\n",
    "len(df)"
   ]
  },
  {
   "cell_type": "markdown",
   "metadata": {},
   "source": [
    "Print a few matches:"
   ]
  },
  {
   "cell_type": "markdown",
   "metadata": {},
   "source": [
    "Get one match and analyse it."
   ]
  },
  {
   "cell_type": "markdown",
   "metadata": {},
   "source": [
    "# Get bookies stats"
   ]
  },
  {
   "cell_type": "markdown",
   "metadata": {},
   "source": [
    "Using the `get_bookie_stats` method, I can see bookies' activity and choose the most active ones to get data from."
   ]
  },
  {
   "cell_type": "code",
   "execution_count": 60,
   "metadata": {},
   "outputs": [],
   "source": [
    "def get_bookie_stats():\n",
    "\n",
    "    from collections import Counter\n",
    "    ms = get_db_matches()\n",
    "\n",
    "    bookies_count = {}\n",
    "    bookies_list_global = []\n",
    "\n",
    "    for m in ms:\n",
    "\n",
    "        # Go through all odds and create a set of unique bookies appearing in each match\n",
    "        bookies_set = set()\n",
    "        all_odds = m['all_odds']['winner']\n",
    "        print(all_odds)\n",
    "        all_odds = [item for item in all_odds if item is not None]\n",
    "        all_odds = sorted(all_odds, key=lambda item:item['datetime'])\n",
    "        for entry in all_odds:\n",
    "            bookies_list = [e['bookie'] for e in entry['odds']]\n",
    "            bookies_set.update(bookies_list)\n",
    "            bookies_list_global.extend(bookies_list)\n",
    "\n",
    "        # Update bookie appearance count for all matches\n",
    "        for bookie in bookies_set:\n",
    "            if bookie in bookies_count.keys():\n",
    "                bookies_count[bookie] += 1\n",
    "            else:\n",
    "                bookies_count[bookie] = 1\n",
    "\n",
    "    # Get bookies from most to least common appearances\n",
    "    counter_all_appear = Counter(bookies_list_global)\n",
    "    \n",
    "    dict_all = {}\n",
    "    dict_all['match_appear'] = bookies_count\n",
    "    dict_all['all_appear'] = counter_all_appear\n",
    "    \n",
    "    df = pd.DataFrame(dict_all)\n",
    "    df.sort_values(by='match_appear', inplace=True, ascending=False)\n",
    "    return df\n"
   ]
  },
  {
   "cell_type": "code",
   "execution_count": 61,
   "metadata": {},
   "outputs": [
    {
     "name": "stderr",
     "output_type": "stream",
     "text": [
      "IOPub data rate exceeded.\n",
      "The notebook server will temporarily stop sending output\n",
      "to the client in order to avoid crashing it.\n",
      "To change this limit, set the config variable\n",
      "`--NotebookApp.iopub_data_rate_limit`.\n",
      "\n",
      "Current values:\n",
      "NotebookApp.iopub_data_rate_limit=1000000.0 (bytes/sec)\n",
      "NotebookApp.rate_limit_window=3.0 (secs)\n",
      "\n"
     ]
    },
    {
     "ename": "TypeError",
     "evalue": "'NoneType' object is not iterable",
     "output_type": "error",
     "traceback": [
      "\u001b[1;31m---------------------------------------------------------------------------\u001b[0m",
      "\u001b[1;31mTypeError\u001b[0m                                 Traceback (most recent call last)",
      "\u001b[1;32m<ipython-input-61-ed8a1c9c4f18>\u001b[0m in \u001b[0;36m<module>\u001b[1;34m()\u001b[0m\n\u001b[1;32m----> 1\u001b[1;33m \u001b[0mdf\u001b[0m \u001b[1;33m=\u001b[0m \u001b[0mget_bookie_stats\u001b[0m\u001b[1;33m(\u001b[0m\u001b[1;33m)\u001b[0m\u001b[1;33m\u001b[0m\u001b[0m\n\u001b[0m\u001b[0;32m      2\u001b[0m \u001b[0mdf\u001b[0m\u001b[1;33m\u001b[0m\u001b[0m\n",
      "\u001b[1;32m<ipython-input-60-88052fedbc64>\u001b[0m in \u001b[0;36mget_bookie_stats\u001b[1;34m()\u001b[0m\n\u001b[0;32m     13\u001b[0m         \u001b[0mall_odds\u001b[0m \u001b[1;33m=\u001b[0m \u001b[0mm\u001b[0m\u001b[1;33m[\u001b[0m\u001b[1;34m'all_odds'\u001b[0m\u001b[1;33m]\u001b[0m\u001b[1;33m[\u001b[0m\u001b[1;34m'winner'\u001b[0m\u001b[1;33m]\u001b[0m\u001b[1;33m\u001b[0m\u001b[0m\n\u001b[0;32m     14\u001b[0m         \u001b[0mprint\u001b[0m\u001b[1;33m(\u001b[0m\u001b[0mall_odds\u001b[0m\u001b[1;33m)\u001b[0m\u001b[1;33m\u001b[0m\u001b[0m\n\u001b[1;32m---> 15\u001b[1;33m         \u001b[0mall_odds\u001b[0m \u001b[1;33m=\u001b[0m \u001b[1;33m[\u001b[0m\u001b[0mitem\u001b[0m \u001b[1;32mfor\u001b[0m \u001b[0mitem\u001b[0m \u001b[1;32min\u001b[0m \u001b[0mall_odds\u001b[0m \u001b[1;32mif\u001b[0m \u001b[0mitem\u001b[0m \u001b[1;32mis\u001b[0m \u001b[1;32mnot\u001b[0m \u001b[1;32mNone\u001b[0m\u001b[1;33m]\u001b[0m\u001b[1;33m\u001b[0m\u001b[0m\n\u001b[0m\u001b[0;32m     16\u001b[0m         \u001b[0mall_odds\u001b[0m \u001b[1;33m=\u001b[0m \u001b[0msorted\u001b[0m\u001b[1;33m(\u001b[0m\u001b[0mall_odds\u001b[0m\u001b[1;33m,\u001b[0m \u001b[0mkey\u001b[0m\u001b[1;33m=\u001b[0m\u001b[1;32mlambda\u001b[0m \u001b[0mitem\u001b[0m\u001b[1;33m:\u001b[0m\u001b[0mitem\u001b[0m\u001b[1;33m[\u001b[0m\u001b[1;34m'datetime'\u001b[0m\u001b[1;33m]\u001b[0m\u001b[1;33m)\u001b[0m\u001b[1;33m\u001b[0m\u001b[0m\n\u001b[0;32m     17\u001b[0m         \u001b[1;32mfor\u001b[0m \u001b[0mentry\u001b[0m \u001b[1;32min\u001b[0m \u001b[0mall_odds\u001b[0m\u001b[1;33m:\u001b[0m\u001b[1;33m\u001b[0m\u001b[0m\n",
      "\u001b[1;31mTypeError\u001b[0m: 'NoneType' object is not iterable"
     ]
    }
   ],
   "source": [
    "df = get_bookie_stats()\n",
    "df"
   ]
  },
  {
   "cell_type": "code",
   "execution_count": 199,
   "metadata": {},
   "outputs": [
    {
     "data": {
      "text/html": [
       "<div>\n",
       "<style>\n",
       "    .dataframe thead tr:only-child th {\n",
       "        text-align: right;\n",
       "    }\n",
       "\n",
       "    .dataframe thead th {\n",
       "        text-align: left;\n",
       "    }\n",
       "\n",
       "    .dataframe tbody tr th {\n",
       "        vertical-align: top;\n",
       "    }\n",
       "</style>\n",
       "<table border=\"1\" class=\"dataframe\">\n",
       "  <thead>\n",
       "    <tr style=\"text-align: right;\">\n",
       "      <th></th>\n",
       "      <th>all_appear</th>\n",
       "      <th>match_appear</th>\n",
       "    </tr>\n",
       "  </thead>\n",
       "  <tbody>\n",
       "    <tr>\n",
       "      <th>Bet 365</th>\n",
       "      <td>12831</td>\n",
       "      <td>902</td>\n",
       "    </tr>\n",
       "    <tr>\n",
       "      <th>Sky Bet</th>\n",
       "      <td>11390</td>\n",
       "      <td>851</td>\n",
       "    </tr>\n",
       "    <tr>\n",
       "      <th>Ladbrokes</th>\n",
       "      <td>10396</td>\n",
       "      <td>826</td>\n",
       "    </tr>\n",
       "    <tr>\n",
       "      <th>William Hill</th>\n",
       "      <td>9985</td>\n",
       "      <td>802</td>\n",
       "    </tr>\n",
       "    <tr>\n",
       "      <th>Marathon Bet</th>\n",
       "      <td>9537</td>\n",
       "      <td>780</td>\n",
       "    </tr>\n",
       "    <tr>\n",
       "      <th>Betfair Sportsbook</th>\n",
       "      <td>9314</td>\n",
       "      <td>770</td>\n",
       "    </tr>\n",
       "    <tr>\n",
       "      <th>SunBets</th>\n",
       "      <td>9176</td>\n",
       "      <td>764</td>\n",
       "    </tr>\n",
       "    <tr>\n",
       "      <th>Paddy Power</th>\n",
       "      <td>9056</td>\n",
       "      <td>751</td>\n",
       "    </tr>\n",
       "    <tr>\n",
       "      <th>Unibet</th>\n",
       "      <td>8967</td>\n",
       "      <td>748</td>\n",
       "    </tr>\n",
       "    <tr>\n",
       "      <th>Coral</th>\n",
       "      <td>8848</td>\n",
       "      <td>743</td>\n",
       "    </tr>\n",
       "    <tr>\n",
       "      <th>Betfred</th>\n",
       "      <td>8745</td>\n",
       "      <td>740</td>\n",
       "    </tr>\n",
       "    <tr>\n",
       "      <th>Boylesports</th>\n",
       "      <td>8652</td>\n",
       "      <td>732</td>\n",
       "    </tr>\n",
       "    <tr>\n",
       "      <th>Black Type</th>\n",
       "      <td>8521</td>\n",
       "      <td>723</td>\n",
       "    </tr>\n",
       "    <tr>\n",
       "      <th>Betstars</th>\n",
       "      <td>8325</td>\n",
       "      <td>714</td>\n",
       "    </tr>\n",
       "    <tr>\n",
       "      <th>Betway</th>\n",
       "      <td>8207</td>\n",
       "      <td>706</td>\n",
       "    </tr>\n",
       "    <tr>\n",
       "      <th>BetBright</th>\n",
       "      <td>8062</td>\n",
       "      <td>695</td>\n",
       "    </tr>\n",
       "    <tr>\n",
       "      <th>10Bet</th>\n",
       "      <td>7819</td>\n",
       "      <td>685</td>\n",
       "    </tr>\n",
       "    <tr>\n",
       "      <th>Sportingbet</th>\n",
       "      <td>7470</td>\n",
       "      <td>665</td>\n",
       "    </tr>\n",
       "    <tr>\n",
       "      <th>188Bet</th>\n",
       "      <td>7070</td>\n",
       "      <td>637</td>\n",
       "    </tr>\n",
       "    <tr>\n",
       "      <th>888sport</th>\n",
       "      <td>6518</td>\n",
       "      <td>605</td>\n",
       "    </tr>\n",
       "    <tr>\n",
       "      <th>Bet Victor</th>\n",
       "      <td>5946</td>\n",
       "      <td>566</td>\n",
       "    </tr>\n",
       "    <tr>\n",
       "      <th>Sportpesa</th>\n",
       "      <td>5261</td>\n",
       "      <td>519</td>\n",
       "    </tr>\n",
       "    <tr>\n",
       "      <th>Betfair</th>\n",
       "      <td>4424</td>\n",
       "      <td>446</td>\n",
       "    </tr>\n",
       "    <tr>\n",
       "      <th>Betdaq</th>\n",
       "      <td>3492</td>\n",
       "      <td>386</td>\n",
       "    </tr>\n",
       "    <tr>\n",
       "      <th>Winner</th>\n",
       "      <td>1593</td>\n",
       "      <td>321</td>\n",
       "    </tr>\n",
       "    <tr>\n",
       "      <th>Matchbook</th>\n",
       "      <td>2614</td>\n",
       "      <td>307</td>\n",
       "    </tr>\n",
       "    <tr>\n",
       "      <th>Smarkets</th>\n",
       "      <td>1843</td>\n",
       "      <td>231</td>\n",
       "    </tr>\n",
       "    <tr>\n",
       "      <th>Spreadex</th>\n",
       "      <td>1334</td>\n",
       "      <td>194</td>\n",
       "    </tr>\n",
       "  </tbody>\n",
       "</table>\n",
       "</div>"
      ],
      "text/plain": [
       "                    all_appear  match_appear\n",
       "Bet 365                  12831           902\n",
       "Sky Bet                  11390           851\n",
       "Ladbrokes                10396           826\n",
       "William Hill              9985           802\n",
       "Marathon Bet              9537           780\n",
       "Betfair Sportsbook        9314           770\n",
       "SunBets                   9176           764\n",
       "Paddy Power               9056           751\n",
       "Unibet                    8967           748\n",
       "Coral                     8848           743\n",
       "Betfred                   8745           740\n",
       "Boylesports               8652           732\n",
       "Black Type                8521           723\n",
       "Betstars                  8325           714\n",
       "Betway                    8207           706\n",
       "BetBright                 8062           695\n",
       "10Bet                     7819           685\n",
       "Sportingbet               7470           665\n",
       "188Bet                    7070           637\n",
       "888sport                  6518           605\n",
       "Bet Victor                5946           566\n",
       "Sportpesa                 5261           519\n",
       "Betfair                   4424           446\n",
       "Betdaq                    3492           386\n",
       "Winner                    1593           321\n",
       "Matchbook                 2614           307\n",
       "Smarkets                  1843           231\n",
       "Spreadex                  1334           194"
      ]
     },
     "execution_count": 199,
     "metadata": {},
     "output_type": "execute_result"
    }
   ],
   "source": [
    "df = get_bookie_stats()\n",
    "df"
   ]
  },
  {
   "cell_type": "code",
   "execution_count": 45,
   "metadata": {},
   "outputs": [
    {
     "data": {
      "image/png": "[encoded data removed]",
      "text/plain": [
       "<Figure size 432x288 with 1 Axes>"
      ]
     },
     "metadata": {},
     "output_type": "display_data"
    }
   ],
   "source": [
    "m = db.matches.find_one({'team_home': 'Inter Milan', 'team_away': 'Barcelona'})\n",
    "\n",
    "winner = m['all_odds']['winner']\n",
    "odds_bet365 = []\n",
    "for odds in winner:\n",
    "    for odd in odds['odds']:\n",
    "        if odd['bookie'] == 'Bet 365':\n",
    "            odd['datetime'] = odds['datetime']\n",
    "            odds_bet365.append(odd)\n",
    "            \n",
    "\n",
    "\n",
    "# print(odds_bet365)\n",
    "\n",
    "import matplotlib.pyplot as plt\n",
    "\n",
    "dates = [a['datetime'] for a in odds_bet365]\n",
    "home_win = [a['1'] for a in odds_bet365]\n",
    "away_win = [a['2'] for a in odds_bet365]\n",
    "draw = [a['0'] for a in odds_bet365]\n",
    "\n",
    "plt.title(\"%s | %s - %s | %s\" % (str(m['match_datetime'])[:-9], m['team_home'], m['team_away'], m['result']['score']))\n",
    "plt.plot(dates, home_win, \"-o\", color='blue')\n",
    "plt.plot(dates, away_win, \"-x\", color='red')\n",
    "plt.plot(dates, draw, \"-*\", color='green')\n",
    "plt.show()"
   ]
  },
  {
   "cell_type": "markdown",
   "metadata": {},
   "source": [
    "## Update Oct 2018"
   ]
  },
  {
   "cell_type": "code",
   "execution_count": 6,
   "metadata": {},
   "outputs": [
    {
     "ename": "OperationFailure",
     "evalue": "Executor error during find command: OperationFailed: Sort operation used more than the maximum 33554432 bytes of RAM. Add an index, or specify a smaller limit.",
     "output_type": "error",
     "traceback": [
      "\u001b[0;31m---------------------------------------------------------------------------\u001b[0m",
      "\u001b[0;31mOperationFailure\u001b[0m                          Traceback (most recent call last)",
      "\u001b[0;32m<ipython-input-6-9b2f017d6a7f>\u001b[0m in \u001b[0;36m<module>\u001b[0;34m()\u001b[0m\n\u001b[0;32m----> 1\u001b[0;31m \u001b[0mdf\u001b[0m \u001b[0;34m=\u001b[0m \u001b[0mget_bookie_stats\u001b[0m\u001b[0;34m(\u001b[0m\u001b[0;34m)\u001b[0m\u001b[0;34m\u001b[0m\u001b[0m\n\u001b[0m",
      "\u001b[0;32m<ipython-input-3-88b68f84fdba>\u001b[0m in \u001b[0;36mget_bookie_stats\u001b[0;34m()\u001b[0m\n\u001b[1;32m      2\u001b[0m \u001b[0;34m\u001b[0m\u001b[0m\n\u001b[1;32m      3\u001b[0m     \u001b[0;32mfrom\u001b[0m \u001b[0mcollections\u001b[0m \u001b[0;32mimport\u001b[0m \u001b[0mCounter\u001b[0m\u001b[0;34m\u001b[0m\u001b[0m\n\u001b[0;32m----> 4\u001b[0;31m     \u001b[0mms\u001b[0m \u001b[0;34m=\u001b[0m \u001b[0mget_db_matches\u001b[0m\u001b[0;34m(\u001b[0m\u001b[0;34m)\u001b[0m\u001b[0;34m\u001b[0m\u001b[0m\n\u001b[0m\u001b[1;32m      5\u001b[0m \u001b[0;34m\u001b[0m\u001b[0m\n\u001b[1;32m      6\u001b[0m     \u001b[0mbookies_count\u001b[0m \u001b[0;34m=\u001b[0m \u001b[0;34m{\u001b[0m\u001b[0;34m}\u001b[0m\u001b[0;34m\u001b[0m\u001b[0m\n",
      "\u001b[0;32m<ipython-input-5-acaa91eab4fe>\u001b[0m in \u001b[0;36mget_db_matches\u001b[0;34m()\u001b[0m\n\u001b[1;32m      6\u001b[0m     \u001b[0;31m# Get matches from db, sorted by `match_datetime`\u001b[0m\u001b[0;34m\u001b[0m\u001b[0;34m\u001b[0m\u001b[0m\n\u001b[1;32m      7\u001b[0m     \u001b[0mdb\u001b[0m \u001b[0;34m=\u001b[0m \u001b[0mfdb\u001b[0m\u001b[0;34m.\u001b[0m\u001b[0mconnect_db\u001b[0m\u001b[0;34m(\u001b[0m\u001b[0;34m)\u001b[0m\u001b[0;34m\u001b[0m\u001b[0m\n\u001b[0;32m----> 8\u001b[0;31m     \u001b[0mms\u001b[0m \u001b[0;34m=\u001b[0m \u001b[0mlist\u001b[0m\u001b[0;34m(\u001b[0m\u001b[0mdb\u001b[0m\u001b[0;34m.\u001b[0m\u001b[0mmatches\u001b[0m\u001b[0;34m.\u001b[0m\u001b[0mfind\u001b[0m\u001b[0;34m(\u001b[0m\u001b[0;34m)\u001b[0m\u001b[0;34m.\u001b[0m\u001b[0msort\u001b[0m\u001b[0;34m(\u001b[0m\u001b[0;34m\"match_datetime\"\u001b[0m\u001b[0;34m)\u001b[0m\u001b[0;34m)\u001b[0m\u001b[0;34m\u001b[0m\u001b[0m\n\u001b[0m\u001b[1;32m      9\u001b[0m \u001b[0;34m\u001b[0m\u001b[0m\n\u001b[1;32m     10\u001b[0m \u001b[0;31m#     # If not already sorted, sort odds in each match by `datetime`\u001b[0m\u001b[0;34m\u001b[0m\u001b[0;34m\u001b[0m\u001b[0m\n",
      "\u001b[0;32m/Users/Misko/anaconda3/lib/python3.6/site-packages/pymongo/cursor.py\u001b[0m in \u001b[0;36mnext\u001b[0;34m(self)\u001b[0m\n\u001b[1;32m   1174\u001b[0m         \u001b[0;32mif\u001b[0m \u001b[0mself\u001b[0m\u001b[0;34m.\u001b[0m\u001b[0m__empty\u001b[0m\u001b[0;34m:\u001b[0m\u001b[0;34m\u001b[0m\u001b[0m\n\u001b[1;32m   1175\u001b[0m             \u001b[0;32mraise\u001b[0m \u001b[0mStopIteration\u001b[0m\u001b[0;34m\u001b[0m\u001b[0m\n\u001b[0;32m-> 1176\u001b[0;31m         \u001b[0;32mif\u001b[0m \u001b[0mlen\u001b[0m\u001b[0;34m(\u001b[0m\u001b[0mself\u001b[0m\u001b[0;34m.\u001b[0m\u001b[0m__data\u001b[0m\u001b[0;34m)\u001b[0m \u001b[0;32mor\u001b[0m \u001b[0mself\u001b[0m\u001b[0;34m.\u001b[0m\u001b[0m_refresh\u001b[0m\u001b[0;34m(\u001b[0m\u001b[0;34m)\u001b[0m\u001b[0;34m:\u001b[0m\u001b[0;34m\u001b[0m\u001b[0m\n\u001b[0m\u001b[1;32m   1177\u001b[0m             \u001b[0;32mif\u001b[0m \u001b[0mself\u001b[0m\u001b[0;34m.\u001b[0m\u001b[0m__manipulate\u001b[0m\u001b[0;34m:\u001b[0m\u001b[0;34m\u001b[0m\u001b[0m\n\u001b[1;32m   1178\u001b[0m                 \u001b[0m_db\u001b[0m \u001b[0;34m=\u001b[0m \u001b[0mself\u001b[0m\u001b[0;34m.\u001b[0m\u001b[0m__collection\u001b[0m\u001b[0;34m.\u001b[0m\u001b[0mdatabase\u001b[0m\u001b[0;34m\u001b[0m\u001b[0m\n",
      "\u001b[0;32m/Users/Misko/anaconda3/lib/python3.6/site-packages/pymongo/cursor.py\u001b[0m in \u001b[0;36m_refresh\u001b[0;34m(self)\u001b[0m\n\u001b[1;32m   1085\u001b[0m                                   \u001b[0mself\u001b[0m\u001b[0;34m.\u001b[0m\u001b[0m__session\u001b[0m\u001b[0;34m,\u001b[0m\u001b[0;34m\u001b[0m\u001b[0m\n\u001b[1;32m   1086\u001b[0m                                   self.__collection.database.client)\n\u001b[0;32m-> 1087\u001b[0;31m             \u001b[0mself\u001b[0m\u001b[0;34m.\u001b[0m\u001b[0m__send_message\u001b[0m\u001b[0;34m(\u001b[0m\u001b[0mq\u001b[0m\u001b[0;34m)\u001b[0m\u001b[0;34m\u001b[0m\u001b[0m\n\u001b[0m\u001b[1;32m   1088\u001b[0m             \u001b[0;32mif\u001b[0m \u001b[0;32mnot\u001b[0m \u001b[0mself\u001b[0m\u001b[0;34m.\u001b[0m\u001b[0m__id\u001b[0m\u001b[0;34m:\u001b[0m\u001b[0;34m\u001b[0m\u001b[0m\n\u001b[1;32m   1089\u001b[0m                 \u001b[0mself\u001b[0m\u001b[0;34m.\u001b[0m\u001b[0m__killed\u001b[0m \u001b[0;34m=\u001b[0m \u001b[0;32mTrue\u001b[0m\u001b[0;34m\u001b[0m\u001b[0m\n",
      "\u001b[0;32m/Users/Misko/anaconda3/lib/python3.6/site-packages/pymongo/cursor.py\u001b[0m in \u001b[0;36m__send_message\u001b[0;34m(self, operation)\u001b[0m\n\u001b[1;32m    972\u001b[0m                 \u001b[0mfirst\u001b[0m \u001b[0;34m=\u001b[0m \u001b[0mdocs\u001b[0m\u001b[0;34m[\u001b[0m\u001b[0;36m0\u001b[0m\u001b[0;34m]\u001b[0m\u001b[0;34m\u001b[0m\u001b[0m\n\u001b[1;32m    973\u001b[0m                 \u001b[0mclient\u001b[0m\u001b[0;34m.\u001b[0m\u001b[0m_receive_cluster_time\u001b[0m\u001b[0;34m(\u001b[0m\u001b[0mfirst\u001b[0m\u001b[0;34m,\u001b[0m \u001b[0mself\u001b[0m\u001b[0;34m.\u001b[0m\u001b[0m__session\u001b[0m\u001b[0;34m)\u001b[0m\u001b[0;34m\u001b[0m\u001b[0m\n\u001b[0;32m--> 974\u001b[0;31m                 \u001b[0mhelpers\u001b[0m\u001b[0;34m.\u001b[0m\u001b[0m_check_command_response\u001b[0m\u001b[0;34m(\u001b[0m\u001b[0mfirst\u001b[0m\u001b[0;34m)\u001b[0m\u001b[0;34m\u001b[0m\u001b[0m\n\u001b[0m\u001b[1;32m    975\u001b[0m         \u001b[0;32mexcept\u001b[0m \u001b[0mOperationFailure\u001b[0m \u001b[0;32mas\u001b[0m \u001b[0mexc\u001b[0m\u001b[0;34m:\u001b[0m\u001b[0;34m\u001b[0m\u001b[0m\n\u001b[1;32m    976\u001b[0m             \u001b[0mself\u001b[0m\u001b[0;34m.\u001b[0m\u001b[0m__killed\u001b[0m \u001b[0;34m=\u001b[0m \u001b[0;32mTrue\u001b[0m\u001b[0;34m\u001b[0m\u001b[0m\n",
      "\u001b[0;32m/Users/Misko/anaconda3/lib/python3.6/site-packages/pymongo/helpers.py\u001b[0m in \u001b[0;36m_check_command_response\u001b[0;34m(response, msg, allowable_errors, parse_write_concern_error)\u001b[0m\n\u001b[1;32m    144\u001b[0m \u001b[0;34m\u001b[0m\u001b[0m\n\u001b[1;32m    145\u001b[0m             \u001b[0mmsg\u001b[0m \u001b[0;34m=\u001b[0m \u001b[0mmsg\u001b[0m \u001b[0;32mor\u001b[0m \u001b[0;34m\"%s\"\u001b[0m\u001b[0;34m\u001b[0m\u001b[0m\n\u001b[0;32m--> 146\u001b[0;31m             \u001b[0;32mraise\u001b[0m \u001b[0mOperationFailure\u001b[0m\u001b[0;34m(\u001b[0m\u001b[0mmsg\u001b[0m \u001b[0;34m%\u001b[0m \u001b[0merrmsg\u001b[0m\u001b[0;34m,\u001b[0m \u001b[0mcode\u001b[0m\u001b[0;34m,\u001b[0m \u001b[0mresponse\u001b[0m\u001b[0;34m)\u001b[0m\u001b[0;34m\u001b[0m\u001b[0m\n\u001b[0m\u001b[1;32m    147\u001b[0m \u001b[0;34m\u001b[0m\u001b[0m\n\u001b[1;32m    148\u001b[0m \u001b[0;34m\u001b[0m\u001b[0m\n",
      "\u001b[0;31mOperationFailure\u001b[0m: Executor error during find command: OperationFailed: Sort operation used more than the maximum 33554432 bytes of RAM. Add an index, or specify a smaller limit."
     ]
    }
   ],
   "source": [
    "df = get_bookie_stats()"
   ]
  }
 ],
 "metadata": {
  "kernelspec": {
   "display_name": "Python 3",
   "language": "python",
   "name": "python3"
  },
  "language_info": {
   "codemirror_mode": {
    "name": "ipython",
    "version": 3
   },
   "file_extension": ".py",
   "mimetype": "text/x-python",
   "name": "python",
   "nbconvert_exporter": "python",
   "pygments_lexer": "ipython3",
   "version": "3.6.5"
  },
  "toc": {
   "nav_menu": {},
   "number_sections": true,
   "sideBar": true,
   "skip_h1_title": true,
   "toc_cell": false,
   "toc_position": {
    "height": "505px",
    "left": "0px",
    "right": "1068px",
    "top": "107px",
    "width": "212px"
   },
   "toc_section_display": "block",
   "toc_window_display": true
  }
 },
 "nbformat": 4,
 "nbformat_minor": 2
}
